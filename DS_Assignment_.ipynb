{
  "nbformat": 4,
  "nbformat_minor": 0,
  "metadata": {
    "colab": {
      "provenance": []
    },
    "kernelspec": {
      "name": "python3",
      "display_name": "Python 3"
    },
    "language_info": {
      "name": "python"
    }
  },
  "cells": [
    {
      "cell_type": "markdown",
      "source": [
        "#Assignment 02\n",
        "\n",
        "#Data Types and Structures Questions\n",
        "\n",
        "Q1. What are data structures and\n",
        "    why are they important?\n",
        "\n",
        "---> Data structures are ways to organize and store data in a computer so it\n",
        "     can be used efficiently.\n",
        "     \n",
        "     They are important as they helps to store data in a structured way.\n",
        "     2. Makes searching and processing data quicker\n",
        "     3. Allows sorting, filtering, and updating easily\n",
        "     4. Used in apps, websites, games, and more\n",
        "\n",
        "Q2. Explain the difference between mutable and immutable data types with\n",
        "    examples?\n",
        "\n",
        "---> Mutable Data Types : It can be changed after creation. It can be modify, add, or remove elements.\n",
        "\n",
        "Example - List , dict, set"
      ],
      "metadata": {
        "id": "zwMngjEkrJJv"
      }
    },
    {
      "cell_type": "code",
      "source": [
        "my_list = [1, 2, 3]\n",
        "my_list[0] = 10\n",
        "print(my_list)  # Output: [10, 2, 3]\n"
      ],
      "metadata": {
        "colab": {
          "base_uri": "https://localhost:8080/"
        },
        "id": "7Xn3HuOzkCsv",
        "outputId": "cb2cc8b9-392e-44af-e184-1e4794a99a23"
      },
      "execution_count": 1,
      "outputs": [
        {
          "output_type": "stream",
          "name": "stdout",
          "text": [
            "[10, 2, 3]\n"
          ]
        }
      ]
    },
    {
      "cell_type": "markdown",
      "source": [
        "Immutable data types - It can't be changed after the creation.\n",
        " Any change creates a new object. Eg - int, float, str, tuples.\n",
        "\n",
        ""
      ],
      "metadata": {
        "id": "BbMm4t10mKIF"
      }
    },
    {
      "cell_type": "code",
      "source": [
        "my_str = \"hello\"\n",
        "my_str[0] = \"H\"  #  This will give an error because strings are immutable\n"
      ],
      "metadata": {
        "id": "98LBHfupnPcl"
      },
      "execution_count": null,
      "outputs": []
    },
    {
      "cell_type": "markdown",
      "source": [
        "Q3. What are the main differences between lists and tuples in Python?\n",
        "\n",
        "---> List - 1. It can be changeable(mutable).\n",
        "            2. It uses square brackets [].\n",
        "            3. It is slower due to mutability.\n",
        "            4. It has many built in methods.\n",
        "            \n",
        "    Tuples - 1. It can't be changed after creation (immutable).\n",
        "             2. It uses round brackets(paranthesis) - ()\n",
        "             3. It is faster due to immutablity.\n",
        "             4. It has fewer methods.\n",
        "\n"
      ],
      "metadata": {
        "id": "c90OSDydnQdy"
      }
    },
    {
      "cell_type": "code",
      "source": [
        "# List\n",
        "my_list = [1, 2, 3]\n",
        "my_list[0] = 10\n",
        "print(my_list)  # Output: [10, 2, 3]\n",
        "\n",
        "# Tuple\n",
        "my_tuple = (1, 2, 3)\n",
        "# my_tuple[0] = 10   Error: 'tuple' object does not support item assignment\n"
      ],
      "metadata": {
        "id": "PekEqg8Iqzdi"
      },
      "execution_count": null,
      "outputs": []
    },
    {
      "cell_type": "code",
      "source": [],
      "metadata": {
        "id": "xqdKUlKTq0t4"
      },
      "execution_count": null,
      "outputs": []
    },
    {
      "cell_type": "markdown",
      "source": [
        "Q4. Describe how dictionaries store data?\n",
        "\n",
        "---> In Python, dictionaries store data in the form of key-value pairs.\n",
        "     Each key is unique and is used to access its corresponding value.\n",
        "\n",
        "     \n",
        "\n"
      ],
      "metadata": {
        "id": "WNC_vRzbrF8B"
      }
    },
    {
      "cell_type": "code",
      "source": [
        "student = {\n",
        "    \"name\": \"Alice\",\n",
        "    \"age\": 20,\n",
        "    \"grade\": \"A\"\n",
        "}\n"
      ],
      "metadata": {
        "id": "CXGjMWy8rfX6"
      },
      "execution_count": null,
      "outputs": []
    },
    {
      "cell_type": "markdown",
      "source": [
        "Q5. Why might you use a set instead of a list in Python?\n",
        "\n",
        "---> We must use set instead of list when ⁉\n",
        "   1. When we wants to store unique values as sets removes duplicates values.\n",
        "\n",
        "   "
      ],
      "metadata": {
        "id": "m0VB9a04rhL6"
      }
    },
    {
      "cell_type": "code",
      "source": [
        "my_list = [1, 2, 2, 3]\n",
        "my_set = set(my_list)\n",
        "print(my_set)  # Output: {1, 2, 3}\n"
      ],
      "metadata": {
        "colab": {
          "base_uri": "https://localhost:8080/"
        },
        "id": "-ot6pJR1sBcp",
        "outputId": "e45c37f3-7e6e-41b8-bd02-b3b0055b6c83"
      },
      "execution_count": 2,
      "outputs": [
        {
          "output_type": "stream",
          "name": "stdout",
          "text": [
            "{1, 2, 3}\n"
          ]
        }
      ]
    },
    {
      "cell_type": "markdown",
      "source": [
        "  2. Sets are faster than lists when checking if an item exists.\n",
        "  3. We can perform set operations, such as union, intersection, and\n",
        "     difference.\n",
        "\n",
        "Q6. What is a string in Python, and how is it different from a list?\n",
        "\n",
        "---> A string is a sequence of characters enclosed in quotes (single ',\n",
        "     double \", or triple ''').\n",
        "\n",
        "     "
      ],
      "metadata": {
        "id": "tYkmXuresC8i"
      }
    },
    {
      "cell_type": "code",
      "source": [
        "text = \"Hello, world!\"\n",
        "print(text)"
      ],
      "metadata": {
        "colab": {
          "base_uri": "https://localhost:8080/"
        },
        "id": "rJG57xpesm3h",
        "outputId": "b0277510-751c-4e48-a043-ec21ae3db44d"
      },
      "execution_count": 4,
      "outputs": [
        {
          "output_type": "stream",
          "name": "stdout",
          "text": [
            "Hello, world!\n"
          ]
        }
      ]
    },
    {
      "cell_type": "markdown",
      "source": [
        "The key difference is that strings are immutable, meaning their characters cannot be changed after the string is created, while lists are mutable, so you can add, remove, or modify elements in a list. Additionally, strings only contain characters, whereas lists can hold a mix of data types. Lists are typically used when you need to group and manipulate multiple items, while strings are best suited for handling and processing text.\n",
        "\n",
        "\n"
      ],
      "metadata": {
        "id": "3EZjr0Jzsq49"
      }
    },
    {
      "cell_type": "code",
      "source": [
        "# String\n",
        "name = \"John\"\n",
        "# name[0] = \"M\"  # Error: strings are immutable\n",
        "\n",
        "# List\n",
        "my_list = [\"J\", \"o\", \"h\", \"n\"]\n",
        "my_list[0] = \"M\"\n",
        "print(my_list)  # Output: ['M', 'o', 'h', 'n']\n"
      ],
      "metadata": {
        "colab": {
          "base_uri": "https://localhost:8080/"
        },
        "id": "DzMNXwxpuenC",
        "outputId": "93037ea2-123c-47ca-f9e8-042eba4af553"
      },
      "execution_count": 5,
      "outputs": [
        {
          "output_type": "stream",
          "name": "stdout",
          "text": [
            "['M', 'o', 'h', 'n']\n"
          ]
        }
      ]
    },
    {
      "cell_type": "markdown",
      "source": [
        "Q7.  How do tuples ensure data integrity in Python?\n",
        "\n",
        "---> Tuples ensure data integrity by being immutable, which means once a\n",
        "     tuple is created, its values cannot be changed, added to, or removed.\n",
        "\n",
        "     tuples cannot be modified, they protect the data from accidental changes.\n",
        "\n",
        "This makes them useful when you want to store constant data or pass fixed information in a program.\n",
        "\n",
        "They also help in writing reliable and bug-free code, since the values remain consistent throughout the program.\n",
        "\n",
        "\n",
        "Tuples help maintain data integrity by making sure that the data stays unchanged, secure, and predictable once defined.\n",
        "\n",
        "\n",
        "Q8. What is a hash table, and how does it relate to dictionaries in Python?\n",
        "\n",
        "---> A hash table is a data structure that stores data using a key-value pair system. It uses a process called hashing to convert each key into a unique number (called a hash), which determines where the value is stored in memory.\n",
        "\n"
      ],
      "metadata": {
        "id": "-LBX_s5luhL3"
      }
    },
    {
      "cell_type": "code",
      "source": [
        "student = {\"name\": \"Alice\", \"age\": 20}\n",
        "print(student[\"name\"])  # Output: Alice\n"
      ],
      "metadata": {
        "colab": {
          "base_uri": "https://localhost:8080/"
        },
        "id": "UToyaR9KvTPd",
        "outputId": "e53160ba-38e2-4428-9c17-c299f4c72c92"
      },
      "execution_count": 6,
      "outputs": [
        {
          "output_type": "stream",
          "name": "stdout",
          "text": [
            "Alice\n"
          ]
        }
      ]
    },
    {
      "cell_type": "markdown",
      "source": [
        "Here, \"name\" is hashed to find where \"Alice\" is stored. This makes lookup very fast, even with large amounts of data.\n",
        "\n",
        "Q9. Can lists contain different data types in Python?\n",
        "\n",
        "---> Yes, Python lists are heterogeneous, meaning they can hold multiple data types together. This makes them very powerful for storing mixed data in one place.\n",
        "\n",
        "\n"
      ],
      "metadata": {
        "id": "ySf9IzGWvYDH"
      }
    },
    {
      "cell_type": "code",
      "source": [
        "my_list = [10, \"hello\", 3.14, True, [1, 2, 3]]\n",
        "print(my_list)\n"
      ],
      "metadata": {
        "colab": {
          "base_uri": "https://localhost:8080/"
        },
        "id": "-o639dPVwA2F",
        "outputId": "5e8fa4d1-c6b3-4b6f-8f0f-45ffdf6d1527"
      },
      "execution_count": 7,
      "outputs": [
        {
          "output_type": "stream",
          "name": "stdout",
          "text": [
            "[10, 'hello', 3.14, True, [1, 2, 3]]\n"
          ]
        }
      ]
    },
    {
      "cell_type": "markdown",
      "source": [
        "Q10. Explain why strings are immutable in Python?\n",
        "\n",
        "---> Strings are immutable in Python to make programs faster, safer, and\n",
        "     more predictable, especially when strings are used in many places or as keys in data structures.\n",
        "\n",
        "\n",
        "  They are immutable because :\n",
        "\n",
        "1. Performance and Memory Efficiency\n",
        "\n",
        "   Since strings are used a lot in programs, making them immutable helps save memory and speed up operations like comparisons and caching.\n",
        "\n",
        "2. Safety and Reliability\n",
        "\n",
        "   Immutability ensures that when a string is shared across different parts of a program, it won’t be accidentally changed.\n",
        "\n",
        "3. Hashing Support\n",
        "   Immutable objects like strings can be hashed, which is necessary for using them as keys in dictionaries or sets.\n",
        "\n",
        "\n",
        "Q11. What advantages do dictionaries offer over lists for certain tasks?\n",
        "\n",
        "---> Dictionaries in Python are more suitable than lists when you need to\n",
        "     store data using key-value pairs, and when you want to access data quickly using meaningful identifiers (keys) instead of just positions.\n",
        "\n",
        " Key Advantages of Dictionaries over Lists:\n",
        "Fast Data Lookup\n",
        "\n",
        "1. Dictionaries allow instant access to values using keys, while lists need to search by index or value.\n",
        "\n",
        "2. Meaningful Access\n",
        "\n",
        "  With dictionaries, you can use descriptive keys (like \"name\" or \"age\"), making your code more readable and self-explanatory.\n",
        "\n",
        "3. Unique Keys Ensure Clean Data\n",
        "\n",
        "   Dictionaries do not allow duplicate keys, which helps avoid confusion or accidental overwriting.\n",
        "\n",
        "4. Better for Structured or Mapped Data\n",
        "\n",
        "   Dictionaries are great for representing data like a record, database row, or JSON object.\n",
        "\n",
        "\n"
      ],
      "metadata": {
        "id": "qEaF0UNzwDvz"
      }
    },
    {
      "cell_type": "code",
      "source": [
        "# Using a list\n",
        "person_list = [\"Alice\", 25, \"Engineer\"]\n",
        "# You need to remember that index 1 means age\n",
        "\n",
        "# Using a dictionary\n",
        "person_dict = {\"name\": \"Alice\", \"age\": 25, \"job\": \"Engineer\"}\n",
        "# You can access by name: person_dict[\"age\"]\n"
      ],
      "metadata": {
        "id": "PNq9v4_HQ2Fq"
      },
      "execution_count": 1,
      "outputs": []
    },
    {
      "cell_type": "markdown",
      "source": [
        "Q12 Describe a scenario where using a tuple would be preferable over a\n",
        "    list?\n",
        "\n",
        "---> Use a tuple when you want to store a fixed collection of values that should not change throughout the program — in other words, when the data is constant and read-only.\n",
        "\n",
        "Using a tuple helps protect this data from modification, ensuring data integrity.\n",
        "\n",
        "Eg :  you're storing the coordinates of a location:\n"
      ],
      "metadata": {
        "id": "6pHTzFR0Q7fw"
      }
    },
    {
      "cell_type": "code",
      "source": [
        "location = (28.6139, 77.2090)  # Latitude and Longitude of New Delhi\n"
      ],
      "metadata": {
        "id": "94qEmMhARTz8"
      },
      "execution_count": null,
      "outputs": []
    },
    {
      "cell_type": "markdown",
      "source": [
        "The coordinates are fixed and should not be accidentally changed.\n",
        "\n",
        "It tells other programmers: “This data should not change.”\n",
        "\n",
        "It prevents bugs caused by accidental changes.\n",
        "\n",
        "Tuples use less memory and are faster than lists.\n",
        "\n",
        "Q13. How do sets handle duplicate values in Python?\n",
        "\n",
        "---> In Python, sets automatically remove duplicate values. When you create a set, only unique elements are stored — any duplicates are ignored.\n",
        "\n",
        "Sets handle duplicates by not allowing them at all — every item in a set is guaranteed to be unique.\n",
        "\n",
        "Sets are unordered collections of unique items.\n",
        "\n",
        "They are useful when you need to:\n",
        "\n",
        "a) Remove duplicates from a list\n",
        "\n",
        "b) Check for uniqueness\n",
        "\n",
        "c) Perform set operations like union, intersection, etc.\n",
        "\n"
      ],
      "metadata": {
        "id": "QynKnOvbRYYH"
      }
    },
    {
      "cell_type": "code",
      "source": [
        "my_set = {1, 2, 3, 2, 4, 1}\n",
        "print(my_set)\n"
      ],
      "metadata": {
        "colab": {
          "base_uri": "https://localhost:8080/"
        },
        "id": "dRR8CDKPRzGy",
        "outputId": "1ea969c6-2025-4ba8-dad2-fb9d5bbec1c5"
      },
      "execution_count": 2,
      "outputs": [
        {
          "output_type": "stream",
          "name": "stdout",
          "text": [
            "{1, 2, 3, 4}\n"
          ]
        }
      ]
    },
    {
      "cell_type": "markdown",
      "source": [
        "Q14. How does the “in” keyword work differently for lists and dictionaries?\n",
        "\n",
        "---> The in keyword is used to check for membership, but it works a bit differently in lists and dictionaries:\n",
        "\n",
        "In Lists:\n",
        "It checks if a value exists in the list.\n"
      ],
      "metadata": {
        "id": "AY1UZcL9R05m"
      }
    },
    {
      "cell_type": "code",
      "source": [
        "fruits = [\"apple\", \"banana\", \"cherry\"]\n",
        "print(\"banana\" in fruits)  # True\n",
        "print(\"grape\" in fruits)   # False\n"
      ],
      "metadata": {
        "colab": {
          "base_uri": "https://localhost:8080/"
        },
        "id": "D7Y4A4IoSIah",
        "outputId": "c6807c0e-04d2-4495-b727-f43f88c36c97"
      },
      "execution_count": 3,
      "outputs": [
        {
          "output_type": "stream",
          "name": "stdout",
          "text": [
            "True\n",
            "False\n"
          ]
        }
      ]
    },
    {
      "cell_type": "markdown",
      "source": [
        "In Dictionaries:\n",
        "It checks if a key exists in the dictionary — not the value."
      ],
      "metadata": {
        "id": "3x77Ef7xSMu9"
      }
    },
    {
      "cell_type": "code",
      "source": [
        "person = {\"name\": \"Alice\", \"age\": 25}\n",
        "print(\"name\" in person)   # True (key)\n",
        "print(\"Alice\" in person)  #  False (not a key)\n"
      ],
      "metadata": {
        "colab": {
          "base_uri": "https://localhost:8080/"
        },
        "id": "jYg4lva_SQPJ",
        "outputId": "149ad91f-3c9c-434a-fccd-5e87e0f618d8"
      },
      "execution_count": 4,
      "outputs": [
        {
          "output_type": "stream",
          "name": "stdout",
          "text": [
            "True\n",
            "False\n"
          ]
        }
      ]
    },
    {
      "cell_type": "markdown",
      "source": [
        "Q15. Can you modify the elements of a tuple? Explain why or why not?\n",
        "\n",
        "---> No, you cannot modify the elements of a tuple in Python because tuples are immutable.\n",
        "Immutable means once a tuple is created, its content cannot be changed — you can't add, remove, or update elements.\n",
        "\n",
        "This is by design to ensure the data stays constant and secure."
      ],
      "metadata": {
        "id": "uWx4sZUPScKt"
      }
    },
    {
      "cell_type": "code",
      "source": [
        "my_tuple = (10, 20, 30)\n",
        "# my_tuple[1] = 50  # This will raise an error: 'tuple' object does not support item assignment\n"
      ],
      "metadata": {
        "id": "45TR-vJOSsCH"
      },
      "execution_count": null,
      "outputs": []
    },
    {
      "cell_type": "markdown",
      "source": [
        "Q16 What is a nested dictionary, and give an example of its use case?\n",
        "\n",
        "---> A nested dictionary is a dictionary inside another dictionary. It allows you to organize complex, structured data using multiple levels of key-value pairs."
      ],
      "metadata": {
        "id": "H1wreg75SuRn"
      }
    },
    {
      "cell_type": "code",
      "source": [
        "students = {\n",
        "    \"101\": {\"name\": \"Alice\", \"age\": 20},\n",
        "    \"102\": {\"name\": \"Bob\", \"age\": 22}\n",
        "}\n",
        "\n",
        "print(students[\"101\"][\"name\"])  # Output: Alice\n"
      ],
      "metadata": {
        "colab": {
          "base_uri": "https://localhost:8080/"
        },
        "id": "GA7UYngBS-Vt",
        "outputId": "e59adecc-b934-4ef2-8e3f-d8c787fc22ca"
      },
      "execution_count": 5,
      "outputs": [
        {
          "output_type": "stream",
          "name": "stdout",
          "text": [
            "Alice\n"
          ]
        }
      ]
    },
    {
      "cell_type": "markdown",
      "source": [
        "A nested dictionary is useful for handling structured data — like representing a table where each row has multiple fields. It's commonly used in databases, APIs, and real-world apps.\n",
        "\n",
        "Q17. Describe the time complexity of accessing elements in a dictionary?\n",
        "\n",
        "---> Dictionaries are one of the most efficient data structures in Python for lookups and data storage when you need fast access using keys.\n",
        "\n",
        "The time complexity for accessing elements in a dictionary is O(1) on average — which means it takes constant time, regardless of the size of the dictionary.\n",
        "\n",
        "Python dictionaries use a hash table internally.\n",
        "\n",
        "Keys are hashed into a unique index, so looking up a value by key doesn't require searching the whole dictionary.\n",
        "\n",
        "Q18. In what situations are lists preferred over dictionaries?\n",
        "\n",
        "---> You should prefer lists over dictionaries when you need to store items in a specific order and don’t need key-based access.\n",
        "\n",
        "Situations where lists are better:\n",
        "1. Order Matters\n",
        "\n",
        "Lists maintain the insertion order of elements.\n",
        "\n",
        "Useful for tasks like printing items in sequence, looping in order, etc.\n",
        "\n",
        "2. Simple Collections\n",
        "\n",
        "When you just need a collection of values without labels (keys).\n",
        "\n",
        "E.g., list of numbers, names, or tasks.\n",
        "\n",
        "3. Index-Based Access\n",
        "\n",
        "If you want to access or update values using positions (indexes).\n",
        "\n",
        "4. Duplicates are Needed\n",
        "\n",
        "Lists allow duplicate values, unlike sets or dictionary keys.\n",
        "\n",
        "5. Easy Iteration\n",
        "\n",
        "Ideal for looping over items in a straightforward way."
      ],
      "metadata": {
        "id": "UuOIvrMgTGfU"
      }
    },
    {
      "cell_type": "code",
      "source": [
        "fruits = [\"apple\", \"banana\", \"cherry\"]\n",
        "print(fruits)\n",
        "\n",
        "fruits[0] = \"mango\"\n",
        "\n",
        "print(fruits)"
      ],
      "metadata": {
        "colab": {
          "base_uri": "https://localhost:8080/"
        },
        "id": "PGpjkmYnT-K-",
        "outputId": "292a4e71-ab41-4c78-faa7-901cf6b1c4dd"
      },
      "execution_count": 6,
      "outputs": [
        {
          "output_type": "stream",
          "name": "stdout",
          "text": [
            "['apple', 'banana', 'cherry']\n",
            "['mango', 'banana', 'cherry']\n"
          ]
        }
      ]
    },
    {
      "cell_type": "markdown",
      "source": [
        "Q19. Why are dictionaries considered unordered, and how does that affect data retrieval?\n",
        "\n",
        "---> Retrieving by key is fast (O(1)), and does not depend on the order.\n",
        "\n",
        "You can’t retrieve by position/index, like in a list.\n",
        "\n"
      ],
      "metadata": {
        "id": "xGe5W9kVUGTT"
      }
    },
    {
      "cell_type": "code",
      "source": [
        "person = {\"name\": \"Alice\", \"age\": 25}\n",
        "print(person[\"name\"])   # Access by key\n",
        "# print(person[0])      # Error: Can't access by position\n"
      ],
      "metadata": {
        "id": "JD81sO_lUXi9"
      },
      "execution_count": null,
      "outputs": []
    },
    {
      "cell_type": "markdown",
      "source": [
        "Q20. Explain the difference between a list and a dictionary in terms of data retrieval.\n",
        "\n",
        "---> Use a list when you need to access items by their position (like the 1st, 2nd, etc.).\n",
        "\n",
        "Use a dictionary when you want to access items using a descriptive key, which makes data retrieval faster and clearer."
      ],
      "metadata": {
        "id": "PFBe7-FuUZ3i"
      }
    },
    {
      "cell_type": "code",
      "source": [
        "# List\n",
        "colors = [\"red\", \"green\", \"blue\"]\n",
        "print(colors[1])  # Output: green (access by index)\n",
        "\n",
        "# Dictionary\n",
        "student = {\"name\": \"Alice\", \"age\": 21}\n",
        "print(student[\"name\"])  # Output: Alice (access by key)\n"
      ],
      "metadata": {
        "colab": {
          "base_uri": "https://localhost:8080/"
        },
        "id": "dZDEXRGeUpUB",
        "outputId": "09569033-3783-48eb-e40f-a763281b5cab"
      },
      "execution_count": 7,
      "outputs": [
        {
          "output_type": "stream",
          "name": "stdout",
          "text": [
            "green\n",
            "Alice\n"
          ]
        }
      ]
    },
    {
      "cell_type": "markdown",
      "source": [
        "#Practical Questions\n",
        "\n",
        "Q1. Write a code to create a string with your name and print it.\n",
        "\n",
        "--->"
      ],
      "metadata": {
        "id": "Joc7-HjTUzVi"
      }
    },
    {
      "cell_type": "code",
      "source": [
        "Str1 = \"Aarushi Nayan\"\n",
        "print(Str1)"
      ],
      "metadata": {
        "colab": {
          "base_uri": "https://localhost:8080/"
        },
        "id": "ycLJIkwnVTPN",
        "outputId": "e0227633-c819-4ce2-8502-3fdfaf14ef4e"
      },
      "execution_count": 8,
      "outputs": [
        {
          "output_type": "stream",
          "name": "stdout",
          "text": [
            "Aarushi Nayan\n"
          ]
        }
      ]
    },
    {
      "cell_type": "markdown",
      "source": [
        "Q2. Write a code to find the length of the string \"Hello World\".\n",
        "\n",
        "--->"
      ],
      "metadata": {
        "id": "r24YpMC2VjtE"
      }
    },
    {
      "cell_type": "code",
      "source": [
        "str2 = \"Hello World\"\n",
        "print(len(str2))"
      ],
      "metadata": {
        "colab": {
          "base_uri": "https://localhost:8080/"
        },
        "id": "9iK9aHKgVmQX",
        "outputId": "0263fe1e-503a-4fc3-c750-72ca6cf7ab99"
      },
      "execution_count": 9,
      "outputs": [
        {
          "output_type": "stream",
          "name": "stdout",
          "text": [
            "11\n"
          ]
        }
      ]
    },
    {
      "cell_type": "markdown",
      "source": [
        "Q3. Write a code to slice the first 3 characters from the string \"Python Programming\".\n",
        "\n",
        "--->"
      ],
      "metadata": {
        "id": "Mg4r_3kxVv_p"
      }
    },
    {
      "cell_type": "code",
      "source": [
        "a = \"Python Programming\"\n",
        "\n",
        "print(a[0:3])"
      ],
      "metadata": {
        "colab": {
          "base_uri": "https://localhost:8080/"
        },
        "id": "guUi1pO0V22d",
        "outputId": "670680f5-e39d-4386-ae22-f9f402539bcc"
      },
      "execution_count": 10,
      "outputs": [
        {
          "output_type": "stream",
          "name": "stdout",
          "text": [
            "Pyt\n"
          ]
        }
      ]
    },
    {
      "cell_type": "markdown",
      "source": [
        "Q4. Write a code to convert the string \"hello\" to uppercase.\n",
        "\n",
        "--->"
      ],
      "metadata": {
        "id": "wR6U_oKKWFW1"
      }
    },
    {
      "cell_type": "code",
      "source": [
        "a = \"hello\"\n",
        "print(a.upper())\n"
      ],
      "metadata": {
        "colab": {
          "base_uri": "https://localhost:8080/"
        },
        "id": "r-XceJiYWOAq",
        "outputId": "32bee40b-66ef-4731-8b87-4b0c30046fa1"
      },
      "execution_count": 11,
      "outputs": [
        {
          "output_type": "stream",
          "name": "stdout",
          "text": [
            "HELLO\n"
          ]
        }
      ]
    },
    {
      "cell_type": "markdown",
      "source": [
        "Q5. Write a code to replace the word \"apple\" with \"orange\" in the string \"I like apple\".\n",
        "\n",
        "--->"
      ],
      "metadata": {
        "id": "o1T-Mz3DWaLc"
      }
    },
    {
      "cell_type": "code",
      "source": [
        "a = \"I like apple\"\n",
        "print(a.replace(\"apple\" , \"orange\"))"
      ],
      "metadata": {
        "colab": {
          "base_uri": "https://localhost:8080/"
        },
        "id": "jSfWHI3NWel9",
        "outputId": "20e6ddc5-3c32-4984-8f4c-c7547e91858e"
      },
      "execution_count": 12,
      "outputs": [
        {
          "output_type": "stream",
          "name": "stdout",
          "text": [
            "I like orange\n"
          ]
        }
      ]
    },
    {
      "cell_type": "markdown",
      "source": [
        "Q6. Write a code to create a list with numbers 1 to 5 and print it.\n",
        "\n",
        "--->\n"
      ],
      "metadata": {
        "id": "oM3_YxHUWucY"
      }
    },
    {
      "cell_type": "code",
      "source": [
        "list1 = [1,2,3,4,5]\n",
        "print(list1)"
      ],
      "metadata": {
        "colab": {
          "base_uri": "https://localhost:8080/"
        },
        "id": "hytMNQSjWztR",
        "outputId": "31ff75ce-0934-4e08-a434-a86a6c62bff0"
      },
      "execution_count": 13,
      "outputs": [
        {
          "output_type": "stream",
          "name": "stdout",
          "text": [
            "[1, 2, 3, 4, 5]\n"
          ]
        }
      ]
    },
    {
      "cell_type": "markdown",
      "source": [
        "Q7. Write a code to append the number 10 to the list [1, 2, 3, 4].\n",
        "\n",
        "--->"
      ],
      "metadata": {
        "id": "0mQ4gcOwW7Y3"
      }
    },
    {
      "cell_type": "code",
      "source": [
        "list1 = [1,2,3,4]\n",
        "list1.append(10)\n",
        "print(list1)"
      ],
      "metadata": {
        "colab": {
          "base_uri": "https://localhost:8080/"
        },
        "id": "wGVLW6ObW_v_",
        "outputId": "cdf6e3d5-6cfa-424b-e866-1f52705f5980"
      },
      "execution_count": 14,
      "outputs": [
        {
          "output_type": "stream",
          "name": "stdout",
          "text": [
            "[1, 2, 3, 4, 10]\n"
          ]
        }
      ]
    },
    {
      "cell_type": "markdown",
      "source": [
        "Q8. Write a code to remove the number 3 from the list [1, 2, 3, 4, 5].\n",
        "\n",
        "--->"
      ],
      "metadata": {
        "id": "YGRSX31RXHyg"
      }
    },
    {
      "cell_type": "code",
      "source": [
        "list1 = [1,2,3,4,5]\n",
        "#list1.remove(3)\n",
        "#print(list1)\n",
        "\n",
        "#or\n",
        "list1.pop(2)\n",
        "print(list1)\n"
      ],
      "metadata": {
        "colab": {
          "base_uri": "https://localhost:8080/"
        },
        "id": "P2RoOpbHXOsl",
        "outputId": "09e67386-c117-4547-b0c0-10a663207679"
      },
      "execution_count": 16,
      "outputs": [
        {
          "output_type": "stream",
          "name": "stdout",
          "text": [
            "[1, 2, 4, 5]\n"
          ]
        }
      ]
    },
    {
      "cell_type": "markdown",
      "source": [
        "Q9. Write a code to access the second element in the list ['a', 'b', 'c', 'd']\n",
        "\n",
        "--->"
      ],
      "metadata": {
        "id": "Or4vorBMXj-8"
      }
    },
    {
      "cell_type": "code",
      "source": [
        "list1 = ['a', 'b', 'c','d']\n",
        "print(list1[1])"
      ],
      "metadata": {
        "colab": {
          "base_uri": "https://localhost:8080/"
        },
        "id": "VrHVppNHYLsx",
        "outputId": "0cdaf28c-cc81-4c0b-b758-2ed38c14c4d1"
      },
      "execution_count": 18,
      "outputs": [
        {
          "output_type": "stream",
          "name": "stdout",
          "text": [
            "b\n"
          ]
        }
      ]
    },
    {
      "cell_type": "markdown",
      "source": [
        "Q10. Write a code to reverse the list [10, 20, 30, 40, 50].\n",
        "\n",
        "--->"
      ],
      "metadata": {
        "id": "Mnz0wo5BaTB5"
      }
    },
    {
      "cell_type": "code",
      "source": [
        "list1 = [10,20,30,40,50]\n",
        "print(list1[::-1])"
      ],
      "metadata": {
        "colab": {
          "base_uri": "https://localhost:8080/"
        },
        "id": "v6tmsL3maY6w",
        "outputId": "b8dc01e9-a511-40b9-f34e-3bd163172d87"
      },
      "execution_count": 19,
      "outputs": [
        {
          "output_type": "stream",
          "name": "stdout",
          "text": [
            "[50, 40, 30, 20, 10]\n"
          ]
        }
      ]
    },
    {
      "cell_type": "markdown",
      "source": [
        "Q11.  Write a code to create a tuple with the elements 100, 200, 300 and print it.\n",
        "\n",
        "--->"
      ],
      "metadata": {
        "id": "3uMgr2RKapvG"
      }
    },
    {
      "cell_type": "code",
      "source": [
        "t = (100,200,300)\n",
        "print(t)"
      ],
      "metadata": {
        "colab": {
          "base_uri": "https://localhost:8080/"
        },
        "id": "u3lPKWu8a6jG",
        "outputId": "9fc8ac15-40a2-4d64-8d02-73e55ae98db0"
      },
      "execution_count": 20,
      "outputs": [
        {
          "output_type": "stream",
          "name": "stdout",
          "text": [
            "(100, 200, 300)\n"
          ]
        }
      ]
    },
    {
      "cell_type": "markdown",
      "source": [
        "Q12. Write a code to access the second-to-last element of the tuple ('red', 'green', 'blue', 'yellow').\n",
        "\n",
        "--->"
      ],
      "metadata": {
        "id": "XQrbOBLoa8lj"
      }
    },
    {
      "cell_type": "code",
      "source": [
        "t = ('red', 'green', 'blue', 'yellow')\n",
        "print(t[-2])"
      ],
      "metadata": {
        "colab": {
          "base_uri": "https://localhost:8080/"
        },
        "id": "V9bUp4PfbIOi",
        "outputId": "65fa8e2b-91bb-417a-ee4c-75ae1baa9b09"
      },
      "execution_count": 21,
      "outputs": [
        {
          "output_type": "stream",
          "name": "stdout",
          "text": [
            "blue\n"
          ]
        }
      ]
    },
    {
      "cell_type": "markdown",
      "source": [
        "Q13. Write a code to find the minimum number in the tuple (10, 20, 5, 15).\n",
        "\n",
        "--->"
      ],
      "metadata": {
        "id": "IctXF8d1bu6f"
      }
    },
    {
      "cell_type": "code",
      "source": [
        "t = (10,20,5,15)\n",
        "print(min(t))"
      ],
      "metadata": {
        "colab": {
          "base_uri": "https://localhost:8080/"
        },
        "id": "dBxDeTsJb0oH",
        "outputId": "f227b1ab-84cd-4ab5-e79a-e33845249df8"
      },
      "execution_count": 22,
      "outputs": [
        {
          "output_type": "stream",
          "name": "stdout",
          "text": [
            "5\n"
          ]
        }
      ]
    },
    {
      "cell_type": "markdown",
      "source": [
        "Q14. Write a code to find the index of the element \"cat\" in the tuple ('dog', 'cat', 'rabbit').\n",
        "\n",
        "--->\n"
      ],
      "metadata": {
        "id": "Jnx6lY_Ccjdt"
      }
    },
    {
      "cell_type": "code",
      "source": [
        "t = ('dog', 'cat','rabbit')\n",
        "print(t.index(\"cat\"))"
      ],
      "metadata": {
        "colab": {
          "base_uri": "https://localhost:8080/"
        },
        "id": "HFQfO4l9cnRh",
        "outputId": "856840dc-b7e3-4538-b979-bf10ca1c76b5"
      },
      "execution_count": 23,
      "outputs": [
        {
          "output_type": "stream",
          "name": "stdout",
          "text": [
            "1\n"
          ]
        }
      ]
    },
    {
      "cell_type": "markdown",
      "source": [
        "Q15. Write a code to create a tuple containing three different fruits and check if \"kiwi\" is in it.\n",
        "\n",
        "--->"
      ],
      "metadata": {
        "id": "xZc-BLjudMV4"
      }
    },
    {
      "cell_type": "code",
      "source": [
        "t = ('apple', 'kiwi','orange')\n",
        "print(\"kiwi\" in t)"
      ],
      "metadata": {
        "colab": {
          "base_uri": "https://localhost:8080/"
        },
        "id": "Zp2ZeS-gdSFs",
        "outputId": "662845b9-252a-4e09-aa91-94d944482caf"
      },
      "execution_count": 24,
      "outputs": [
        {
          "output_type": "stream",
          "name": "stdout",
          "text": [
            "True\n"
          ]
        }
      ]
    },
    {
      "cell_type": "markdown",
      "source": [
        "Q16. Write a code to create a set with the elements 'a', 'b', 'c' and print it.\n",
        "\n",
        "--->\n"
      ],
      "metadata": {
        "id": "O0gZJz90dxUv"
      }
    },
    {
      "cell_type": "code",
      "source": [
        "s = {'a','b','c'}\n",
        "print(s)\n",
        "\n",
        "\n"
      ],
      "metadata": {
        "colab": {
          "base_uri": "https://localhost:8080/"
        },
        "id": "xPYQ9mxgd1d8",
        "outputId": "34486df5-f259-40fd-81fe-3f13ce040e09"
      },
      "execution_count": 30,
      "outputs": [
        {
          "output_type": "stream",
          "name": "stdout",
          "text": [
            "{'c', 'b', 'a'}\n"
          ]
        }
      ]
    },
    {
      "cell_type": "markdown",
      "source": [
        "Q17. Write a code to clear all elements from the set {1, 2, 3, 4, 5}.\n",
        "\n",
        "--->"
      ],
      "metadata": {
        "id": "msJ51c4oeI-R"
      }
    },
    {
      "cell_type": "code",
      "source": [
        "s = {1,2,3,4,5}\n",
        "print(s)\n",
        "\n",
        "print(\"All elements cleared!!\",s.clear())"
      ],
      "metadata": {
        "colab": {
          "base_uri": "https://localhost:8080/"
        },
        "id": "gCrNpJwJeNDr",
        "outputId": "0aa72e02-10c7-445f-a5e1-eaf20cf9d7fe"
      },
      "execution_count": 32,
      "outputs": [
        {
          "output_type": "stream",
          "name": "stdout",
          "text": [
            "{1, 2, 3, 4, 5}\n",
            "All elements cleared!! None\n"
          ]
        }
      ]
    },
    {
      "cell_type": "markdown",
      "source": [
        "Q18. Write a code to remove the element 4 from the set {1, 2, 3, 4}.\n",
        "\n",
        "--->"
      ],
      "metadata": {
        "id": "es9MGAgKecYp"
      }
    },
    {
      "cell_type": "code",
      "source": [
        "s1 = {1,2,3,4}\n",
        "print(s1.remove(4))\n",
        "print(s1)"
      ],
      "metadata": {
        "colab": {
          "base_uri": "https://localhost:8080/"
        },
        "id": "wtmSVtMbetSe",
        "outputId": "d8e94e6c-1023-4ef7-bb81-33a077ae8afb"
      },
      "execution_count": 36,
      "outputs": [
        {
          "output_type": "stream",
          "name": "stdout",
          "text": [
            "None\n",
            "{1, 2, 3}\n"
          ]
        }
      ]
    },
    {
      "cell_type": "markdown",
      "source": [
        "Q19. Write a code to find the union of two sets {1, 2, 3} and {3, 4, 5}.\n",
        "\n",
        "--->\n"
      ],
      "metadata": {
        "id": "R-tJvnG3e-I9"
      }
    },
    {
      "cell_type": "code",
      "source": [
        "s = {1,2,3}\n",
        "r = {3,4,5}\n",
        "print(s.union(r))"
      ],
      "metadata": {
        "colab": {
          "base_uri": "https://localhost:8080/"
        },
        "id": "UyZmdDOofDWy",
        "outputId": "96a01ffb-b0f4-41f0-d526-c94119c86ea8"
      },
      "execution_count": 37,
      "outputs": [
        {
          "output_type": "stream",
          "name": "stdout",
          "text": [
            "{1, 2, 3, 4, 5}\n"
          ]
        }
      ]
    },
    {
      "cell_type": "markdown",
      "source": [
        "Q20. Write a code to find the intersection of two sets {1, 2, 3} and {2, 3, 4}.\n",
        "\n",
        "--->\n"
      ],
      "metadata": {
        "id": "P35ZiYAMfSGG"
      }
    },
    {
      "cell_type": "code",
      "source": [
        "s = {1,2,3}\n",
        "r = {2,3,4}\n",
        "print(s.intersection(r))"
      ],
      "metadata": {
        "colab": {
          "base_uri": "https://localhost:8080/"
        },
        "id": "CxVec4kafW7d",
        "outputId": "49aca26d-d0e9-4504-e135-0dca0eae3592"
      },
      "execution_count": 38,
      "outputs": [
        {
          "output_type": "stream",
          "name": "stdout",
          "text": [
            "{2, 3}\n"
          ]
        }
      ]
    },
    {
      "cell_type": "markdown",
      "source": [
        "Q21. Write a code to create a dictionary with the keys \"name\", \"age\", and \"city\", and print it.\n",
        "\n",
        "--->"
      ],
      "metadata": {
        "id": "fjkpTJPZfj10"
      }
    },
    {
      "cell_type": "code",
      "source": [
        "p ={ \"name\" : \"Aarushi\", \"age\": 24, \"city\" : \"Delhi\"}\n",
        "print(p)"
      ],
      "metadata": {
        "colab": {
          "base_uri": "https://localhost:8080/"
        },
        "id": "49KH2kCffooq",
        "outputId": "bbfed11d-a8d4-46f5-fb63-a7c49b6cdab8"
      },
      "execution_count": 39,
      "outputs": [
        {
          "output_type": "stream",
          "name": "stdout",
          "text": [
            "{'name': 'Aarushi', 'age': 24, 'city': 'Delhi'}\n"
          ]
        }
      ]
    },
    {
      "cell_type": "markdown",
      "source": [
        "Q22. Write a code to add a new key-value pair \"country\": \"USA\" to the dictionary {'name': 'John', 'age': 25}.\n",
        "\n",
        "--->\n"
      ],
      "metadata": {
        "id": "UuDDrUDjgCAB"
      }
    },
    {
      "cell_type": "code",
      "source": [
        " p = {'name': 'John', 'age': 25}\n",
        " p[\"country\"] = \"USA\"\n",
        " print(p)"
      ],
      "metadata": {
        "colab": {
          "base_uri": "https://localhost:8080/"
        },
        "id": "-0ZdBUjbgGXT",
        "outputId": "e8f5e752-26e0-4a86-fea3-78dbc3657b2c"
      },
      "execution_count": 40,
      "outputs": [
        {
          "output_type": "stream",
          "name": "stdout",
          "text": [
            "{'name': 'John', 'age': 25, 'country': 'USA'}\n"
          ]
        }
      ]
    },
    {
      "cell_type": "markdown",
      "source": [
        "Q23.  Write a code to access the value associated with the key \"name\" in the dictionary {'name': 'Alice', 'age': 30}.\n",
        "\n",
        "--->"
      ],
      "metadata": {
        "id": "M7onrQk6gNrT"
      }
    },
    {
      "cell_type": "code",
      "source": [
        "p = {'name': 'Alice', 'age': 30}\n",
        "print(p[\"name\"])"
      ],
      "metadata": {
        "colab": {
          "base_uri": "https://localhost:8080/"
        },
        "id": "g0TsVz7wgSpA",
        "outputId": "91455f5e-2931-46a2-8e27-e94365058982"
      },
      "execution_count": 41,
      "outputs": [
        {
          "output_type": "stream",
          "name": "stdout",
          "text": [
            "Alice\n"
          ]
        }
      ]
    },
    {
      "cell_type": "markdown",
      "source": [
        "Q24. Write a code to remove the key \"age\" from the dictionary {'name': 'Bob', 'age': 22, 'city': 'New York'}.\n",
        "\n",
        "--->\n"
      ],
      "metadata": {
        "id": "0V48ke8egc9D"
      }
    },
    {
      "cell_type": "code",
      "source": [
        " p = {'name': 'Bob', 'age': 22, 'city': 'New York'}\n",
        " p.pop(\"age\")\n",
        " print(p)"
      ],
      "metadata": {
        "colab": {
          "base_uri": "https://localhost:8080/"
        },
        "id": "jUYaWikJgg0h",
        "outputId": "bbea02e7-cfdd-4100-a03a-32c10e6d87f3"
      },
      "execution_count": 42,
      "outputs": [
        {
          "output_type": "stream",
          "name": "stdout",
          "text": [
            "{'name': 'Bob', 'city': 'New York'}\n"
          ]
        }
      ]
    },
    {
      "cell_type": "markdown",
      "source": [
        "Q25. Write a code to check if the key \"city\" exists in the dictionary {'name': 'Alice', 'city': 'Paris'}.\n",
        "\n",
        "--->"
      ],
      "metadata": {
        "id": "dFR0-hOJgn4A"
      }
    },
    {
      "cell_type": "code",
      "source": [
        "p = {'name': 'Alice', 'city': 'Paris'}\n",
        "print(\"city\" in p)"
      ],
      "metadata": {
        "colab": {
          "base_uri": "https://localhost:8080/"
        },
        "id": "RVrclijRgr_7",
        "outputId": "5a257b4a-a2c5-40f9-9a20-c3fcb8e5f03c"
      },
      "execution_count": 43,
      "outputs": [
        {
          "output_type": "stream",
          "name": "stdout",
          "text": [
            "True\n"
          ]
        }
      ]
    },
    {
      "cell_type": "markdown",
      "source": [
        "Q26. Write a code to create a list, a tuple, and a dictionary, and print them all.\n",
        "\n",
        "--->"
      ],
      "metadata": {
        "id": "eZhjR_5egxro"
      }
    },
    {
      "cell_type": "code",
      "source": [
        "list1 = [1,2,3]\n",
        "print(list1)\n",
        "\n",
        "t = (1,2,3)\n",
        "print(t)\n",
        "\n",
        "p = {'name': 'Alice', 'city': 'Paris'}\n",
        "print(p)"
      ],
      "metadata": {
        "colab": {
          "base_uri": "https://localhost:8080/"
        },
        "id": "HXDLuWqIhEeI",
        "outputId": "a5a497be-5a9a-4126-c924-5a67494015d6"
      },
      "execution_count": 44,
      "outputs": [
        {
          "output_type": "stream",
          "name": "stdout",
          "text": [
            "[1, 2, 3]\n",
            "(1, 2, 3)\n",
            "{'name': 'Alice', 'city': 'Paris'}\n"
          ]
        }
      ]
    },
    {
      "cell_type": "markdown",
      "source": [
        "Q27.  Write a code to create a list of 5 random numbers between 1 and 100, sort it in ascending order, and print the\n",
        "result.(replaced)\n",
        "\n",
        "--->"
      ],
      "metadata": {
        "id": "nUNCP5R-hLE5"
      }
    },
    {
      "cell_type": "code",
      "source": [
        "list1 = [10,3,4,0,5]\n",
        "list1.sort()\n",
        "print(list1)"
      ],
      "metadata": {
        "colab": {
          "base_uri": "https://localhost:8080/"
        },
        "id": "b0al8Fn0hPGS",
        "outputId": "7f8b258d-7ca7-4859-dca3-dc66da732d9b"
      },
      "execution_count": 46,
      "outputs": [
        {
          "output_type": "stream",
          "name": "stdout",
          "text": [
            "[0, 3, 4, 5, 10]\n"
          ]
        }
      ]
    },
    {
      "cell_type": "markdown",
      "source": [
        "Q28. Write a code to create a list with strings and print the element at the third index.\n",
        "\n",
        "--->"
      ],
      "metadata": {
        "id": "sonw7Wwbhk9s"
      }
    },
    {
      "cell_type": "code",
      "source": [
        "list1 = [\"a\", \"b\",\"c\",\"d\"]\n",
        "print(list1[3])"
      ],
      "metadata": {
        "colab": {
          "base_uri": "https://localhost:8080/"
        },
        "id": "eTRDi5ebiKoS",
        "outputId": "f18177ea-af56-4234-ade7-3501632df550"
      },
      "execution_count": 48,
      "outputs": [
        {
          "output_type": "stream",
          "name": "stdout",
          "text": [
            "d\n"
          ]
        }
      ]
    },
    {
      "cell_type": "markdown",
      "source": [
        "Q29. Write a code to combine two dictionaries into one and print the result.\n",
        "\n",
        "--->"
      ],
      "metadata": {
        "id": "dv7fWElBiolR"
      }
    },
    {
      "cell_type": "code",
      "source": [
        "p = {\"name\" : \"Aarushi\" , \"age\": 24}\n",
        "s = {\"city\" : \"Delhi\" , \"country\" : \"India\"}\n",
        "p.update(s)\n",
        "print(p)"
      ],
      "metadata": {
        "colab": {
          "base_uri": "https://localhost:8080/"
        },
        "id": "jM5L4j_4itRR",
        "outputId": "7340f426-6bb3-485f-cce9-b35beab384a3"
      },
      "execution_count": 49,
      "outputs": [
        {
          "output_type": "stream",
          "name": "stdout",
          "text": [
            "{'name': 'Aarushi', 'age': 24, 'city': 'Delhi', 'country': 'India'}\n"
          ]
        }
      ]
    },
    {
      "cell_type": "markdown",
      "source": [
        "Q30. Write a code to convert a list of strings into a set.\n",
        "\n",
        "--->"
      ],
      "metadata": {
        "id": "5pda0J-tjDt8"
      }
    },
    {
      "cell_type": "code",
      "source": [
        "list1 = [\"a\", \"b\",\"c\",\"d\"]\n",
        "print(set(list1))"
      ],
      "metadata": {
        "colab": {
          "base_uri": "https://localhost:8080/"
        },
        "id": "FFh6AGo4jRAF",
        "outputId": "341c7965-828a-449d-9d60-3f040e73124f"
      },
      "execution_count": 52,
      "outputs": [
        {
          "output_type": "stream",
          "name": "stdout",
          "text": [
            "{'c', 'b', 'a', 'd'}\n"
          ]
        }
      ]
    },
    {
      "cell_type": "markdown",
      "source": [],
      "metadata": {
        "id": "Bx10JZ2prEn9"
      }
    }
  ]
}